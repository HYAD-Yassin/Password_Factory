{
  "cells": [
    {
      "cell_type": "markdown",
      "metadata": {
        "id": "view-in-github",
        "colab_type": "text"
      },
      "source": [
        "<a href=\"https://colab.research.google.com/github/HYAD-Yassin/Password_Factory/blob/main/Analyse_%26_RNN_Test.ipynb\" target=\"_parent\"><img src=\"https://colab.research.google.com/assets/colab-badge.svg\" alt=\"Open In Colab\"/></a>"
      ]
    },
    {
      "cell_type": "markdown",
      "metadata": {
        "id": "hj8X9kXTH5Uy"
      },
      "source": [
        "#**Premiere Base de Données**"
      ]
    },
    {
      "cell_type": "code",
      "execution_count": null,
      "metadata": {
        "colab": {
          "base_uri": "https://localhost:8080/"
        },
        "id": "bJ-B_dStHmih",
        "outputId": "f5f4aa4d-8951-4c81-e74a-a2d8ca7a80bd"
      },
      "outputs": [
        {
          "output_type": "stream",
          "name": "stdout",
          "text": [
            "Drive already mounted at /content/drive; to attempt to forcibly remount, call drive.mount(\"/content/drive\", force_remount=True).\n",
            " acoustique_voy_orales_20loc_ESTER_NCCFr_contexte_freqLex_distCentroide.csv\n",
            " AllDataSet_Filtred.txt\n",
            " AllDataSet.txt\n",
            " archive.zip\n",
            " Ashley-Madison.txt\n",
            "'Colab Notebooks'\n",
            " DATABASE_Password.zip\n",
            " data.zip\n",
            " Filtered-Ashley-Madison.txt\n",
            " Filtered_PWD.txt\n",
            " histo2.png\n",
            " histogram1.png\n",
            " Letter.gdoc\n",
            " my_model\n",
            " nameGeneration.py\n",
            " Passwords.txt\n",
            " __pycache__\n",
            " rnn.pt\n",
            "'Untitled document (1).gdoc'\n",
            "'Untitled document.gdoc'\n"
          ]
        }
      ],
      "source": [
        "from google.colab import drive\n",
        "drive.mount('/content/drive')\n",
        "\n",
        "!ls drive/MyDrive/"
      ]
    },
    {
      "cell_type": "code",
      "execution_count": null,
      "metadata": {
        "id": "cSTc3xuiH70Q"
      },
      "outputs": [],
      "source": [
        "import matplotlib.pyplot as plt\n",
        "from collections import Counter\n",
        "import re\n",
        "\n",
        "# Remplacez le chemin par le chemin approprié de votre fichier dans Google Drive\n",
        "file_path = '/content/drive/My Drive/Ashley-Madison.txt'\n",
        "\n",
        "# Charger le fichier de corpus\n",
        "with open(file_path, 'r', encoding='utf-8') as file:\n",
        "    text = file.read()"
      ]
    },
    {
      "cell_type": "code",
      "execution_count": null,
      "metadata": {
        "colab": {
          "base_uri": "https://localhost:8080/"
        },
        "id": "xHNlK4MLIBEt",
        "outputId": "615357b3-d7ce-4e7a-f18e-04ab9eedac52"
      },
      "outputs": [
        {
          "output_type": "stream",
          "name": "stdout",
          "text": [
            "Nombre total de mots de passe (lignes) dans le corpus: 376170\n",
            "Longueur moyenne des mots: 7.60\n",
            "Nombre de mots redondants: 405\n",
            "Nombre de mots avec uniquement des lettres: 131620\n",
            "Nombre de mots avec uniquement des chiffres: 46314\n",
            "Nombre de mots avec uniquement des caractères spéciaux: 15\n",
            "Nombre de mots avec des combinaisons de lettres et d'autres caractères: 197831\n"
          ]
        }
      ],
      "source": [
        "# Prétraitement du texte\n",
        "words = text.split()  # Ceci divise le texte en mots en fonction des espaces\n",
        "import statistics\n",
        "\n",
        "\n",
        "# Calcul des statistiques\n",
        "lengths = [len(word) for word in words]\n",
        "average_length = sum(lengths) / len(words) if words else 0\n",
        "unique_words = set(words)\n",
        "redundant_words_count = len(words) - len(unique_words)\n",
        "length_distribution = Counter(lengths)\n",
        "number_of_passwords = len(words)\n",
        "\n",
        "# Filtrer les mots pour obtenir les types demandés\n",
        "letters_only = sum(1 for word in unique_words if word.isalpha())\n",
        "numbers_only = sum(1 for word in unique_words if word.isdigit())\n",
        "special_chars_only = sum(1 for word in unique_words if re.match(r'^\\W+$', word))\n",
        "mixed_types = sum(1 for word in unique_words if any(c.isalpha() for c in word) and any(c.isdigit() for c in word) or any(not c.isalnum() for c in word))\n",
        "\n",
        "# Affichage des résultats\n",
        "print(f\"Nombre total de mots de passe (lignes) dans le corpus: {number_of_passwords}\")\n",
        "print(f\"Longueur moyenne des mots: {average_length:.2f}\")\n",
        "print(f\"Nombre de mots redondants: {redundant_words_count}\")\n",
        "print(f\"Nombre de mots avec uniquement des lettres: {letters_only}\")\n",
        "print(f\"Nombre de mots avec uniquement des chiffres: {numbers_only}\")\n",
        "print(f\"Nombre de mots avec uniquement des caractères spéciaux: {special_chars_only}\")\n",
        "print(f\"Nombre de mots avec des combinaisons de lettres et d'autres caractères: {mixed_types}\")\n"
      ]
    },
    {
      "cell_type": "code",
      "execution_count": null,
      "metadata": {
        "colab": {
          "base_uri": "https://localhost:8080/"
        },
        "id": "foNzF6vJIxtr",
        "outputId": "9c09e779-fc4d-4daf-96f1-fe1ba8313b5d"
      },
      "outputs": [
        {
          "output_type": "stream",
          "name": "stdout",
          "text": [
            "Écart-type de la longueur des mots: 1.82\n",
            "Variance de la longueur des mots: 3.31\n",
            "Écart absolu moyen (MAD) de la longueur des mots: 1.43\n",
            "Ratio de mots uniques par rapport au total des mots: 1.00\n"
          ]
        }
      ],
      "source": [
        "# Calcul de l'écart-type et la variance\n",
        "standard_deviation = statistics.stdev(lengths)\n",
        "variance = statistics.variance(lengths)\n",
        "\n",
        "# Calcul de l'écart absolu moyen (MAD)\n",
        "mean_length = statistics.mean(lengths)\n",
        "mad = sum(abs(length - mean_length) for length in lengths) / len(lengths)\n",
        "\n",
        "# Calcul du ratio de mots uniques\n",
        "unique_word_ratio = len(unique_words) / len(words) if words else 0\n",
        "# Affichage des statistiques supplémentaires\n",
        "print(f\"Écart-type de la longueur des mots: {standard_deviation:.2f}\")\n",
        "print(f\"Variance de la longueur des mots: {variance:.2f}\")\n",
        "print(f\"Écart absolu moyen (MAD) de la longueur des mots: {mad:.2f}\")\n",
        "print(f\"Ratio de mots uniques par rapport au total des mots: {unique_word_ratio:.2f}\")"
      ]
    },
    {
      "cell_type": "code",
      "execution_count": null,
      "metadata": {
        "colab": {
          "base_uri": "https://localhost:8080/",
          "height": 487
        },
        "id": "LA7SUT8nIybi",
        "outputId": "b9bb3ba8-9faf-4eee-b6f8-ae2c283ca88a"
      },
      "outputs": [
        {
          "output_type": "display_data",
          "data": {
            "text/plain": [
              "<Figure size 1000x500 with 1 Axes>"
            ],
            "image/png": "[encoded data removed]"
          },
          "metadata": {}
        }
      ],
      "source": [
        "import matplotlib.pyplot as plt\n",
        "# Créer le graphique de la distribution de la longueur des mots\n",
        "plt.figure(figsize=(10,5))  # Ajustez la taille au besoin\n",
        "plt.hist(lengths, bins=range(1, 16), edgecolor='black')  # Ajustez l'intervalle de bins pour couvrir les longueurs de mots jusqu'à 15\n",
        "\n",
        "# Annoter avec des statistiques\n",
        "mean_val = statistics.mean(lengths)\n",
        "std_dev_val = statistics.stdev(lengths)\n",
        "plt.axvline(mean_val, color='red', linestyle='dashed', linewidth=1, label=f'Moyenne: {mean_val:.2f}')\n",
        "plt.axvline(mean_val + std_dev_val, color='green', linestyle='dashed', linewidth=1, label=f'Écart-type: +{std_dev_val:.2f}')\n",
        "plt.axvline(mean_val - std_dev_val, color='green', linestyle='dashed', linewidth=1, label=f'Écart-type: -{std_dev_val:.2f}')\n",
        "\n",
        "# Titre et étiquettes\n",
        "plt.title('Distribution de la longueur des mots dans le corpus')\n",
        "plt.xlabel('Longueur des mots')\n",
        "plt.ylabel('Fréquence des mots')\n",
        "plt.legend()\n",
        "\n",
        "# Afficher le graphique\n",
        "plt.show()"
      ]
    },
    {
      "cell_type": "markdown",
      "metadata": {
        "id": "-LaccWt5JjJy"
      },
      "source": [
        "#**Preparing The ENV**"
      ]
    },
    {
      "cell_type": "code",
      "execution_count": null,
      "metadata": {
        "colab": {
          "base_uri": "https://localhost:8080/"
        },
        "id": "JGAfnI5HJjSp",
        "outputId": "2753e834-ce05-4779-8a6a-1844b414e38d"
      },
      "outputs": [
        {
          "output_type": "stream",
          "name": "stdout",
          "text": [
            "Folder already exists at /content/models\n"
          ]
        }
      ],
      "source": [
        "import os\n",
        "\n",
        "# Folder path that you want to create\n",
        "folder_path = '/content/models'\n",
        "\n",
        "# Check if the folder already exists\n",
        "if not os.path.exists(folder_path):\n",
        "    os.makedirs(folder_path)\n",
        "    print(f\"Folder created at {folder_path}\")\n",
        "else:\n",
        "    print(f\"Folder already exists at {folder_path}\")"
      ]
    },
    {
      "cell_type": "code",
      "execution_count": null,
      "metadata": {
        "colab": {
          "base_uri": "https://localhost:8080/"
        },
        "id": "BPgoVIkuJwld",
        "outputId": "bf535f6f-a2d3-422c-f1b7-09880f427478"
      },
      "outputs": [
        {
          "output_type": "stream",
          "name": "stdout",
          "text": [
            "Folder already exists at /content/data\n"
          ]
        }
      ],
      "source": [
        "import os\n",
        "\n",
        "# Folder path that you want to create\n",
        "folder_path = '/content/data'\n",
        "\n",
        "# Check if the folder already exists\n",
        "if not os.path.exists(folder_path):\n",
        "    os.makedirs(folder_path)\n",
        "    print(f\"Folder created at {folder_path}\")\n",
        "else:\n",
        "    print(f\"Folder already exists at {folder_path}\")"
      ]
    },
    {
      "cell_type": "code",
      "execution_count": null,
      "metadata": {
        "colab": {
          "base_uri": "https://localhost:8080/"
        },
        "id": "W-DzBMNoJHUi",
        "outputId": "f9f75696-3b4a-46ca-88a9-5745f5f2523d"
      },
      "outputs": [
        {
          "output_type": "stream",
          "name": "stdout",
          "text": [
            "Requirement already satisfied: torch in /usr/local/lib/python3.10/dist-packages (2.1.0+cu118)\n",
            "Requirement already satisfied: torchvision in /usr/local/lib/python3.10/dist-packages (0.16.0+cu118)\n",
            "Requirement already satisfied: filelock in /usr/local/lib/python3.10/dist-packages (from torch) (3.13.1)\n",
            "Requirement already satisfied: typing-extensions in /usr/local/lib/python3.10/dist-packages (from torch) (4.5.0)\n",
            "Requirement already satisfied: sympy in /usr/local/lib/python3.10/dist-packages (from torch) (1.12)\n",
            "Requirement already satisfied: networkx in /usr/local/lib/python3.10/dist-packages (from torch) (3.2.1)\n",
            "Requirement already satisfied: jinja2 in /usr/local/lib/python3.10/dist-packages (from torch) (3.1.2)\n",
            "Requirement already satisfied: fsspec in /usr/local/lib/python3.10/dist-packages (from torch) (2023.6.0)\n",
            "Requirement already satisfied: triton==2.1.0 in /usr/local/lib/python3.10/dist-packages (from torch) (2.1.0)\n",
            "Requirement already satisfied: numpy in /usr/local/lib/python3.10/dist-packages (from torchvision) (1.23.5)\n",
            "Requirement already satisfied: requests in /usr/local/lib/python3.10/dist-packages (from torchvision) (2.31.0)\n",
            "Requirement already satisfied: pillow!=8.3.*,>=5.3.0 in /usr/local/lib/python3.10/dist-packages (from torchvision) (9.4.0)\n",
            "Requirement already satisfied: MarkupSafe>=2.0 in /usr/local/lib/python3.10/dist-packages (from jinja2->torch) (2.1.3)\n",
            "Requirement already satisfied: charset-normalizer<4,>=2 in /usr/local/lib/python3.10/dist-packages (from requests->torchvision) (3.3.2)\n",
            "Requirement already satisfied: idna<4,>=2.5 in /usr/local/lib/python3.10/dist-packages (from requests->torchvision) (3.6)\n",
            "Requirement already satisfied: urllib3<3,>=1.21.1 in /usr/local/lib/python3.10/dist-packages (from requests->torchvision) (2.0.7)\n",
            "Requirement already satisfied: certifi>=2017.4.17 in /usr/local/lib/python3.10/dist-packages (from requests->torchvision) (2023.11.17)\n",
            "Requirement already satisfied: mpmath>=0.19 in /usr/local/lib/python3.10/dist-packages (from sympy->torch) (1.3.0)\n",
            "Requirement already satisfied: unidecode in /usr/local/lib/python3.10/dist-packages (1.3.7)\n"
          ]
        }
      ],
      "source": [
        "!pip install torch torchvision\n",
        "!pip install unidecode"
      ]
    },
    {
      "cell_type": "code",
      "execution_count": null,
      "metadata": {
        "colab": {
          "base_uri": "https://localhost:8080/"
        },
        "id": "y8FfHXHxMk4b",
        "outputId": "26e6bb28-8d40-4256-d1c6-94ec874c2ae8"
      },
      "outputs": [
        {
          "output_type": "stream",
          "name": "stdout",
          "text": [
            "Ashley-MadisonTest.txt\tAshley-MadisonTrain.txt  Ashley-Madison.txt\n",
            "rnn.pt\n"
          ]
        }
      ],
      "source": [
        "!ls '/content/data'\n",
        "\n",
        "!ls '/content/models'\n",
        "\n",
        "!cp '/content/drive/My Drive/rnn.pt' '/content/models'\n",
        "\n",
        "!cp '/content/drive/My Drive/Ashley-Madison.txt' '/content/data'\n",
        "\n"
      ]
    },
    {
      "cell_type": "markdown",
      "metadata": {
        "id": "NICBAV8RJEDB"
      },
      "source": [
        "#**RNN**"
      ]
    },
    {
      "cell_type": "code",
      "execution_count": null,
      "metadata": {
        "colab": {
          "base_uri": "https://localhost:8080/"
        },
        "id": "6LM0w8zeFVzM",
        "outputId": "4a227b76-b5c4-4194-f790-408117ac457a"
      },
      "outputs": [
        {
          "output_type": "stream",
          "name": "stdout",
          "text": [
            "CUDA AVAILABLE\n",
            "all_letters:  abcdefghijklmnopqrstuvwxyzABCDEFGHIJKLMNOPQRSTUVWXYZ0123456789!@#$%^&*()-_=+[]{};:'\",.<>/?\\|`~\n"
          ]
        }
      ],
      "source": [
        "from __future__ import unicode_literals, print_function, division\n",
        "\n",
        "import unidecode\n",
        "import string\n",
        "import random\n",
        "import re\n",
        "import sys\n",
        "\n",
        "from io import open\n",
        "import glob\n",
        "import os\n",
        "import unicodedata\n",
        "import string\n",
        "import random\n",
        "\n",
        "import time\n",
        "import math\n",
        "\n",
        "from os import listdir, path, makedirs, popen\n",
        "from os.path import isdir, isfile, join, basename\n",
        "\n",
        "import torch\n",
        "import torch.nn as nn\n",
        "from torch.autograd import Variable\n",
        "\n",
        "import time, math\n",
        "\n",
        "import matplotlib.pyplot as plt\n",
        "import matplotlib.ticker as ticker\n",
        "\n",
        "from argparse import ArgumentParser\n",
        "\n",
        "if torch.cuda.is_available():\n",
        "    device = torch.device(\"cuda:0\")\n",
        "    print('CUDA AVAILABLE')\n",
        "else:\n",
        "    device = torch.device(\"cpu\")\n",
        "    print('ONLY CPU AVAILABLE')\n",
        "\n",
        "n_iters = 100000\n",
        "all_losses = []\n",
        "total_loss = 0  # Reset every plot_every iters\n",
        "\n",
        "n_epochs = 200000\n",
        "print_every = 1000\n",
        "plot_every = 10\n",
        "hidden_size = 512\n",
        "n_layers = 2\n",
        "lr = 0.005\n",
        "bidirectional = True\n",
        "\n",
        "all_letters = string.ascii_letters + string.digits + \"!@#$%^&*()-_=+[]{};:'\\\",.<>/?\\\\|`~\"\n",
        "print('all_letters: ', all_letters)\n",
        "n_letters = len(all_letters) + 1  # Plus EOS marker\n",
        "\n",
        "\n",
        "def findFiles(path): return glob.glob(path)\n",
        "\n",
        "\n",
        "# Turn a Unicode string to plain ASCII, thanks to https://stackoverflow.com/a/518232/2809427\n",
        "def unicodeToAscii(s):\n",
        "    return ''.join(\n",
        "        c for c in unicodedata.normalize('NFD', s)\n",
        "        if unicodedata.category(c) != 'Mn'\n",
        "        and c in all_letters\n",
        "    )\n",
        "\n",
        "\n",
        "# Read a file and split into lines\n",
        "def readLines(filename):\n",
        "    with open(filename, encoding='utf-8') as some_file:\n",
        "        return [unicodeToAscii(line.strip().lower()) for line in some_file]"
      ]
    },
    {
      "cell_type": "code",
      "execution_count": null,
      "metadata": {
        "id": "LLVzKNLzI_u0"
      },
      "outputs": [],
      "source": [
        "filename = 'data/Ashley-Madison.txt'\n",
        "filenameTrain = 'data/Ashley-MadisonTrain.txt'\n",
        "filenameTest = 'data/Ashley-MadisonTest.txt'\n",
        "\n",
        "\n",
        "def getLines(f):\n",
        "    lines = readLines(f)\n",
        "    print('lines: ', len(lines), ' -> ', f)\n",
        "    return lines\n",
        "\n",
        "\n",
        "def split(rate, lines):\n",
        "    names = []\n",
        "\n",
        "    # for letter in string.ascii_uppercase:\n",
        "    for letter in string.ascii_letters:\n",
        "        names_letter = []\n",
        "        for line in lines:\n",
        "            #print(f\"Processing line: '{line}'\")  # Debug print\n",
        "            if line[0] == letter:\n",
        "                names_letter.append(line)\n",
        "        if len(names_letter) > 0:\n",
        "            names.append(names_letter)\n",
        "\n",
        "    print('split names: ', len(names))\n",
        "    names_traing = []\n",
        "    names_testing = []\n",
        "    for names_letter in names:\n",
        "        length = len(names_letter)\n",
        "\n",
        "        index = int(length * rate)\n",
        "\n",
        "        training = names_letter[:index]\n",
        "        testing = names_letter[index:]\n",
        "\n",
        "        names_traing.append(training)\n",
        "        names_testing.append(testing)\n",
        "\n",
        "    f = open(filenameTrain, \"w\")\n",
        "    for names_letter in names_traing:\n",
        "        for names in names_letter:\n",
        "            f.write(names + \"\\n\")\n",
        "    f.close()\n",
        "\n",
        "    f = open(filenameTest, \"w\")\n",
        "    for names_letter in names_testing:\n",
        "        for names in names_letter:\n",
        "            f.write(names + \"\\n\")\n",
        "    f.close()\n",
        "\n",
        "    return names_traing, names_testing"
      ]
    },
    {
      "cell_type": "markdown",
      "metadata": {
        "id": "p4LS6d6BlCtV"
      },
      "source": [
        "\n",
        "**RNN Model**"
      ]
    },
    {
      "cell_type": "code",
      "execution_count": null,
      "metadata": {
        "id": "iWp-JFQyJZ-Y"
      },
      "outputs": [],
      "source": [
        "# Turn string into list of longs\n",
        "def char_tensor(string):\n",
        "    tensor = torch.zeros(len(string)).long()\n",
        "    for c in range(len(string)):\n",
        "        tensor[c] = all_characters.index(string[c])\n",
        "    return Variable(tensor)\n",
        "\n",
        "\n",
        "def random_training_set(file):\n",
        "    chunk = random_chunk(file)\n",
        "    inp = char_tensor(chunk[:-1]).to(device)\n",
        "    target = char_tensor(chunk[1:]).to(device)\n",
        "    return inp, target\n",
        "\n",
        "\n",
        "# Random item from a list\n",
        "def randomChoice(l):\n",
        "    return l[random.randint(0, len(l) - 1)]\n",
        "\n",
        "\n",
        "# Get a random category and random line from that category\n",
        "def randomTraining(lines):\n",
        "    line = randomChoice(lines)\n",
        "    return line\n",
        "\n",
        "\n",
        "# One-hot matrix of first to last letters (not including EOS) for input\n",
        "def inputTensor(line):\n",
        "    tensor = torch.zeros(len(line), 1, n_letters)  # .long()\n",
        "    for li in range(len(line)):\n",
        "        letter = line[li]\n",
        "        tensor[li][0][all_letters.find(letter)] = 1\n",
        "    return tensor\n",
        "\n",
        "\n",
        "# LongTensor of second letter to end (EOS) for target\n",
        "def targetTensor(line):\n",
        "    letter_indexes = [all_letters.find(line[li]) for li in range(1, len(line))]\n",
        "    letter_indexes.append(n_letters - 1)  # EOS\n",
        "    return torch.LongTensor(letter_indexes)\n",
        "\n",
        "\n",
        "# Make category, input, and target tensors from a random category, line pair\n",
        "def randomTrainingExample(lines):\n",
        "    line = randomTraining(lines)\n",
        "    input_line_tensor = inputTensor(line)\n",
        "    target_line_tensor = targetTensor(line)\n",
        "    return input_line_tensor, target_line_tensor\n",
        "\n",
        "\n",
        "def train(input_line_tensor, target_line_tensor):\n",
        "    target_line_tensor.unsqueeze_(-1)\n",
        "    hidden = decoder.init_hidden()\n",
        "\n",
        "    decoder.zero_grad()\n",
        "\n",
        "    loss = 0\n",
        "\n",
        "    for i in range(input_line_tensor.size(0)):\n",
        "        output, hidden = decoder(input_line_tensor[i].to(device), hidden.to(device))\n",
        "        l = criterion(output.to(device), target_line_tensor[i].to(device))\n",
        "        loss += l\n",
        "\n",
        "    loss.backward()\n",
        "\n",
        "    # decoder_optimizer.step()\n",
        "    for p in decoder.parameters():\n",
        "        p.data.add_(p.grad.data, alpha=-lr)\n",
        "\n",
        "    return output, loss.item() / input_line_tensor.size(0)\n",
        "\n",
        "\n",
        "def timeSince(since):\n",
        "    now = time.time()\n",
        "    s = now - since\n",
        "    m = math.floor(s / 60)\n",
        "    s -= m * 60\n",
        "    return '%dm %ds' % (m, s)\n",
        "\n",
        "class RNNLight(nn.Module):\n",
        "    def __init__(self, input_size, hidden_size, output_size):\n",
        "        super(RNNLight, self).__init__()\n",
        "\n",
        "        self.input_size = input_size\n",
        "        self.hidden_size = hidden_size\n",
        "        self.n_layers = n_layers\n",
        "\n",
        "        self.bidirectional = bidirectional\n",
        "        self.num_directions = 1\n",
        "        if self.bidirectional:\n",
        "            self.num_directions = 2\n",
        "\n",
        "        self.rnn = nn.RNN(input_size=self.input_size, hidden_size=self.hidden_size, num_layers=1,\n",
        "                          bidirectional=self.bidirectional, batch_first=True)\n",
        "        self.out = nn.Linear(self.num_directions * self.hidden_size, output_size)\n",
        "\n",
        "        self.dropout = nn.Dropout(0.1)\n",
        "        self.softmax = nn.LogSoftmax(dim=1)\n",
        "\n",
        "    def forward(self, input, hidden):\n",
        "        _, hidden = self.rnn(input.unsqueeze(0), hidden)\n",
        "\n",
        "        hidden_concatenated = hidden\n",
        "\n",
        "        if self.bidirectional:\n",
        "            hidden_concatenated = torch.cat((hidden[0], hidden[1]), 1)\n",
        "        else:\n",
        "            hidden_concatenated = hidden.squeeze(0)\n",
        "\n",
        "        output = self.out(hidden_concatenated)\n",
        "\n",
        "        output = self.dropout(output)\n",
        "        output = self.softmax(output)\n",
        "\n",
        "        return output, hidden\n",
        "\n",
        "    def init_hidden(self):\n",
        "        return torch.zeros(self.num_directions, 1, self.hidden_size)\n",
        "\n",
        "    # return Variable(torch.zeros(self.n_layers, 1, self.hidden_size, device=device))\n",
        "\n",
        "    def init_hidden_random(self):\n",
        "        return torch.rand(self.num_directions, 1, self.hidden_size)\n",
        "    # return Variable(torch.zeros(self.n_layers, 1, self.hidden_size, device=device))\n",
        "\n",
        "\n",
        "class RNN(nn.Module):\n",
        "    def __init__(self, input_size, hidden_size, output_size):\n",
        "        super(RNN, self).__init__()\n",
        "\n",
        "        self.input_size = input_size\n",
        "        self.hidden_size = hidden_size\n",
        "        self.n_layers = n_layers\n",
        "\n",
        "        self.i2h = nn.Linear(input_size + hidden_size, hidden_size)\n",
        "        self.i2o = nn.Linear(input_size + hidden_size, output_size)\n",
        "        self.o2o = nn.Linear(hidden_size + output_size, output_size)\n",
        "        self.dropout = nn.Dropout(0.1)\n",
        "        self.softmax = nn.LogSoftmax(dim=1)\n",
        "\n",
        "    def forward(self, input, hidden):\n",
        "        # print('---')\n",
        "        # print('input: ', input.size())\n",
        "        # print('hidden: ', hidden.size())\n",
        "        input_combined = torch.cat((input, hidden), 1)\n",
        "        hidden = self.i2h(input_combined)\n",
        "        output = self.i2o(input_combined)\n",
        "        output_combined = torch.cat((hidden, output), 1)\n",
        "        output = self.o2o(output_combined)\n",
        "        output = self.dropout(output)\n",
        "        output = self.softmax(output)\n",
        "\n",
        "        # print('output: ', output.size())$\n",
        "        # input:  torch.Size([1, 59])\n",
        "        # hidden:  torch.Size([1, 128])\n",
        "        # output:  torch.Size([1, 59])\n",
        "\n",
        "        return output, hidden\n",
        "\n",
        "    def init_hidden(self):\n",
        "        return torch.zeros(1, self.hidden_size)\n",
        "\n",
        "    def init_hidden_random(self):\n",
        "        return torch.rand(1, self.hidden_size)\n",
        "    # return Variable(torch.zeros(self.n_layers, 1, self.hidden_size, device=device))\n",
        "\n",
        "\n",
        "def training(n_epochs, lines):\n",
        "    print()\n",
        "    print('-----------')\n",
        "    print('|  TRAIN  |')\n",
        "    print('-----------')\n",
        "    print()\n",
        "\n",
        "    start = time.time()\n",
        "    all_losses = []\n",
        "    total_loss = 0\n",
        "    best_loss = 100\n",
        "    print_every = n_epochs / 100\n",
        "\n",
        "    for iter in range(1, n_epochs + 1):\n",
        "        output, loss = train(*randomTrainingExample(lines))\n",
        "        total_loss += loss\n",
        "\n",
        "        if iter % print_every == 0:\n",
        "            print('%s (%d %d%%) Loss: %.4f (%.4f)' % (timeSince(start), iter, iter / n_iters * 100, total_loss / iter, loss))\n",
        "\n",
        "\n",
        "max_length = 20\n",
        "\n",
        "\n",
        "def samples(start_letters='ABC'):\n",
        "    for start_letter in start_letters:\n",
        "        print(sample(start_letter))\n",
        "\n",
        "\n",
        "def asMinutes(s):\n",
        "    m = math.floor(s / 60)\n",
        "    s -= m * 60\n",
        "    return '%dm %ds' % (m, s)\n",
        "\n",
        "\n",
        "def timeSinceStart(since):\n",
        "    now = time.time()\n",
        "    s = now - since\n",
        "    return '%s' % (asMinutes(s))\n",
        "\n",
        "\n",
        "def progressPercent(totalNames, start, names, p, samplesGenerated):\n",
        "    bar_len = 50\n",
        "    filled_len = int(round(bar_len * names / float(totalNames)))\n",
        "    percents = round(100.0 * names / float(totalNames), 1)\n",
        "    nNames = int(p / 100 * totalNames)\n",
        "\n",
        "    if filled_len == 0:\n",
        "        bar = '>' * filled_len + ' ' * (bar_len - filled_len)\n",
        "    else:\n",
        "        bar = '=' * (filled_len - 1) + '>' + ' ' * (bar_len - filled_len)\n",
        "\n",
        "    sys.stdout.write(\n",
        "        '[%s] %s%s names founded among %d samples generated (%d of %d names) on %s (goal = %.1f%% = %d names)\\r' % (\n",
        "        bar, percents, '%', samplesGenerated, names, totalNames, timeSinceStart(start), p, nNames))\n",
        "    sys.stdout.flush()\n",
        "\n",
        "\n",
        "def progress(total, acc, start, epoch, l):\n",
        "    bar_len = 50\n",
        "    filled_len = int(round(bar_len * epoch / float(total)))\n",
        "    percents = round(100.0 * epoch / float(total), 1)\n",
        "\n",
        "    if filled_len == 0:\n",
        "        bar = '>' * filled_len + ' ' * (bar_len - filled_len)\n",
        "    else:\n",
        "        bar = '=' * (filled_len - 1) + '>' + ' ' * (bar_len - filled_len)\n",
        "\n",
        "    sys.stdout.write('[%s] %s%s epoch: %d acc: %.3f %% and testing size = %d names => coverage of %.3f %% on %s \\r' % (\n",
        "    bar, percents, '%', epoch, (100 * acc / epoch), l, (100 * acc / l), timeSinceStart(start)))\n",
        "    sys.stdout.flush()\n",
        "\n",
        "\n",
        "def sample(decoder, start_letters='ABC'):\n",
        "    with torch.no_grad():  # no need to track history in sampling\n",
        "\n",
        "        hidden = decoder.init_hidden_random()\n",
        "\n",
        "        if len(start_letters) > 1:\n",
        "            for i in range(len(start_letters)):\n",
        "                input = inputTensor(start_letters[i])\n",
        "                # print(start_letters[i], ' ', hidden)\n",
        "                output, hidden = decoder(input[0].to(device), hidden.to(device))\n",
        "\n",
        "            topv, topi = output.topk(1)\n",
        "            topi = topi[0][0]\n",
        "            if topi == n_letters - 1:\n",
        "                return start_letters\n",
        "\n",
        "            letter = all_letters[topi]\n",
        "            input = inputTensor(letter)\n",
        "        else:\n",
        "            input = inputTensor(start_letters)\n",
        "\n",
        "        output_name = start_letters\n",
        "\n",
        "        for i in range(max_length):\n",
        "            output, hidden = decoder(input[0].to(device), hidden.to(device))\n",
        "            topv, topi = output.topk(1)\n",
        "            topi = topi[0][0]\n",
        "            if topi == n_letters - 1:\n",
        "                break\n",
        "            else:\n",
        "                letter = all_letters[topi]\n",
        "                output_name += letter\n",
        "            input = inputTensor(letter)\n",
        "\n",
        "        return output_name\n",
        "\n",
        "\n",
        "\n",
        "def testing(decoder, nb_samples, lineTest, percent, max_length):\n",
        "    start = time.time()\n",
        "    accuracy = 0\n",
        "    predicted = \"a\"\n",
        "    predicted_current = []\n",
        "\n",
        "    with open('pswliste.txt', 'w') as file:\n",
        "        if nb_samples > 0:\n",
        "            for i in range(1, nb_samples + 1):\n",
        "                nc = 1  # Or any other logic you have for choosing 'nc'\n",
        "\n",
        "                while len(predicted) < 8 or predicted in predicted_current:\n",
        "                    starting_letters = \"\".join(random.choice(string.ascii_uppercase) for _ in range(nc))\n",
        "                    predicted = sample(decoder, starting_letters).lower()\n",
        "\n",
        "                predicted_current.append(predicted)\n",
        "                file.write(predicted + '\\n')\n",
        "\n",
        "                if predicted in lineTest:\n",
        "                    accuracy += 1\n",
        "\n",
        "            accuracy = 100 * accuracy / nb_samples\n",
        "            print('Accuracy:', accuracy, '%')\n",
        "\n",
        "        else:\n",
        "            i = 0\n",
        "            l = len(lineTest)\n",
        "            p = int(percent / 100 * l)\n",
        "            while accuracy < p:\n",
        "                nc = random.randint(1, int(max_length / 2 - 1))\n",
        "\n",
        "                while predicted in predicted_current:\n",
        "                    starting_letters = \"\".join(random.choice(string.ascii_uppercase) for _ in range(nc))\n",
        "                    predicted = sample(decoder, starting_letters).lower()\n",
        "\n",
        "                predicted_current.append(predicted)\n",
        "                file.write(predicted + '\\n')\n",
        "\n",
        "                if predicted in lineTest:\n",
        "                    accuracy += 1\n",
        "\n",
        "                i += 1\n",
        "\n",
        "            print(f\"{percent}% of all names ({l}) reached in {i} iterations ({timeSinceStart(start)} s)...\")\n",
        "\n",
        "\n",
        "\n",
        "\n",
        "\n",
        "\n",
        "def evaluating(decoder):\n",
        "    print()\n",
        "    print('------------')\n",
        "    print('|   EVAL   |')\n",
        "    print('------------')\n",
        "    print()\n",
        "\n",
        "    try:\n",
        "        while True:\n",
        "            print('Enter a starting two or tree charachters but less than ', (2 * max_length), ' charachters: ')\n",
        "            starting_letters = input()\n",
        "            print()\n",
        "            if len(starting_letters) > 0 and len(starting_letters) < (2 * max_length):\n",
        "                print('Generated up to ', max_length, 'charcaters: ')\n",
        "                predicted = sample(decoder, starting_letters)\n",
        "                print(predicted)\n",
        "            else:\n",
        "                print(starting_letters, ' length < 1 or > ', (2 * max_length))\n",
        "            print('------------')\n",
        "            print()\n",
        "\n",
        "    except KeyboardInterrupt:\n",
        "        print(\"Press Ctrl-C to terminate evaluating process\")\n",
        "        print('------------')\n",
        "\n",
        "\n",
        "def getMeanSize(listData):\n",
        "    mean = 0\n",
        "    for word in listData:\n",
        "        mean = mean + len(word)\n",
        "\n",
        "    return int(mean / len(listData))"
      ]
    },
    {
      "cell_type": "markdown",
      "metadata": {
        "id": "ZgcI-JasJat4"
      },
      "source": [
        "**Main**"
      ]
    },
    {
      "cell_type": "code",
      "execution_count": null,
      "metadata": {
        "colab": {
          "base_uri": "https://localhost:8080/"
        },
        "id": "vthkDEuwJcxI",
        "outputId": "234f0877-c7cb-46b2-c14c-d3b9f2df7ebc"
      },
      "outputs": [
        {
          "metadata": {
            "tags": null
          },
          "name": "stdout",
          "output_type": "stream",
          "text": [
            "lines:  375853  ->  data/Ashley-Madison.txt\n",
            "split names:  26\n",
            "filenameTrain:  data/Ashley-MadisonTrain.txt\n",
            "lines:  214220  ->  data/Ashley-MadisonTrain.txt\n",
            "lines:  91826  ->  data/Ashley-MadisonTest.txt\n",
            "lineTraining:  214220\n",
            "lineTest:  91826\n",
            "decoder:  RNN(\n",
            "  (i2h): Linear(in_features=223, out_features=128, bias=True)\n",
            "  (i2o): Linear(in_features=223, out_features=95, bias=True)\n",
            "  (o2o): Linear(in_features=223, out_features=95, bias=True)\n",
            "  (dropout): Dropout(p=0.1, inplace=False)\n",
            "  (softmax): LogSoftmax(dim=1)\n",
            ")\n"
          ]
        }
      ],
      "source": [
        "if __name__ == '__main__':\n",
        "\n",
        "    class Args:\n",
        "        trainingData = 'data/Ashley-Madison.txt'\n",
        "        trainEval = 'test'\n",
        "        run = \"rnnGeneration\"\n",
        "        model = 'models/rnn.pt'\n",
        "        n = 10000 # Test values\n",
        "        ml = 10\n",
        "        s = 0.7\n",
        "        num_layers = 2\n",
        "        hidden_size = 256\n",
        "        bidirectional = True\n",
        "        max_epochs = 100000\n",
        "        percent = 15\n",
        "\n",
        "    args = Args()\n",
        "\n",
        "    repData = args.trainingData\n",
        "\n",
        "\n",
        "    file = unidecode.unidecode(open(repData).read())\n",
        "    file_len = len(file)\n",
        "    bidirectional = args.bidirectional\n",
        "    lines = getLines(filename)\n",
        "    train_set, test_set = split(args.s, lines)\n",
        "\n",
        "    print('filenameTrain: ', filenameTrain)\n",
        "    lineTraining = getLines(filenameTrain)\n",
        "    lineTest = getLines(filenameTest)\n",
        "\n",
        "\n",
        "    print('lineTraining: ', len(lineTraining))\n",
        "    print('lineTest: ', len(lineTest))\n",
        "\n",
        "    if args.ml > 0:\n",
        "        max_length = args.ml\n",
        "    else:\n",
        "        max_length = getMeanSize(lineTraining)\n",
        "\n",
        "    decoder = RNN(n_letters, 128, n_letters).to(\n",
        "        device)  # RNN(n_characters, args.hidden_size, n_characters, args.num_layers).to(device)\n",
        "    decoder_optimizer = torch.optim.Adam(decoder.parameters(), lr=lr)\n",
        "\n",
        "    print('decoder: ', decoder)\n",
        "\n",
        "    decoder_optimizer = torch.optim.Adam(decoder.parameters(), lr=lr)\n",
        "    criterion = nn.CrossEntropyLoss()\n",
        "\n",
        "    n_epochs = args.max_epochs\n",
        "\n",
        "    modelFile = args.run + \"_\" + str(args.num_layers) + \"_\" + str(args.hidden_size) + \".pt\"\n",
        "\n",
        "    if not path.exists(args.model):\n",
        "        makedirs(basename(args.model))\n",
        "\n",
        "    #########\n",
        "    # TRAIN #\n",
        "    #########\n",
        "    if args.trainEval == 'train':\n",
        "        decoder.train()\n",
        "        training(n_epochs, lineTraining)\n",
        "        torch.save(decoder, args.model)\n",
        "        print('Model saved in: ', args.model)\n",
        "    #########\n",
        "    # EVAL  #\n",
        "    #########\n",
        "    elif args.trainEval == 'eval':\n",
        "        decoder.eval()\n",
        "        decoder = torch.load(args.model)\n",
        "        decoder.eval().to(device)\n",
        "        evaluating(decoder)\n",
        "    #########\n",
        "    # TEST  #\n",
        "    #########\n",
        "    elif args.trainEval == 'test':\n",
        "        decoder.eval()\n",
        "        decoder = torch.load(args.model)\n",
        "        decoder.eval().to(device)\n",
        "        testing(decoder, args.n, lineTest, args.percent, max_length)  # Pass max_length here\n",
        "    else:\n",
        "        print('Choose trainEval option (--trainEval train/eval/test')"
      ]
    },
    {
      "cell_type": "code",
      "execution_count": null,
      "metadata": {
        "id": "frmyxcGjO82e"
      },
      "outputs": [],
      "source": [
        "model_save_path = '/content/drive/My Drive/rnn.pt'\n",
        "torch.save(decoder.state_dict(), model_save_path)"
      ]
    },
    {
      "cell_type": "code",
      "source": [
        "!ls\n"
      ],
      "metadata": {
        "id": "DQi_-dP1kKt0"
      },
      "execution_count": null,
      "outputs": []
    }
  ],
  "metadata": {
    "colab": {
      "provenance": [],
      "gpuType": "T4",
      "authorship_tag": "ABX9TyM7j9zlSmoM4ZbbEbZK6S50",
      "include_colab_link": true
    },
    "kernelspec": {
      "display_name": "Python 3",
      "name": "python3"
    },
    "language_info": {
      "name": "python"
    },
    "accelerator": "GPU"
  },
  "nbformat": 4,
  "nbformat_minor": 0
}